{
 "cells": [
  {
   "cell_type": "markdown",
   "metadata": {
    "id": "DqRTapxR7Kpg"
   },
   "source": [
    "# **1. 기본 전처리**"
   ]
  },
  {
   "cell_type": "markdown",
   "metadata": {
    "id": "oxovlEtSKZ7j"
   },
   "source": [
    "## RandomForest"
   ]
  },
  {
   "cell_type": "markdown",
   "metadata": {
    "id": "BT__pmJh74FN"
   },
   "source": [
    "### 1) Panda전략 : Babysitting one model"
   ]
  },
  {
   "cell_type": "markdown",
   "metadata": {
    "id": "s0vLd0yn8kwe"
   },
   "source": [
    "* max_depth=120, min_samples_leaf=10, min_samples_split=15,n_estimators=500, random_state=42\n",
    "* R2 : 0.70689\n",
    "* RMSE : 281.27173962231535"
   ]
  },
  {
   "cell_type": "markdown",
   "metadata": {
    "id": "YBV-nPnh9A3O"
   },
   "source": [
    "### 2) Caviar전략 : Training many models in parallel"
   ]
  },
  {
   "cell_type": "markdown",
   "metadata": {
    "id": "4-D-wCaQ9LgW"
   },
   "source": [
    "* RandomizedSearchCV"
   ]
  },
  {
   "cell_type": "code",
   "execution_count": null,
   "metadata": {
    "id": "qv7MiBYDpfq1"
   },
   "outputs": [],
   "source": [
    "paras = {'n_estimators':[100,120,140,160,180,200],\n",
    "         'max_depth': [50,60,70,80,90,100], \n",
    "         'min_samples_split':[5,10,20,30,40,50],\n",
    "         'min_samples_leaf':[15,20,25,30,35,40]}"
   ]
  },
  {
   "cell_type": "code",
   "execution_count": null,
   "metadata": {
    "id": "0wOoztnslcBQ"
   },
   "outputs": [],
   "source": [
    "model = RandomForestRegressor(random_state=42)\n",
    "model3 = RandomizedSearchCV(model,paras,verbose = 2, cv=3, random_state = 42)\n",
    "model3.fit(train_x, train_y.values.ravel())"
   ]
  },
  {
   "cell_type": "code",
   "execution_count": null,
   "metadata": {
    "colab": {
     "base_uri": "https://localhost:8080/"
    },
    "executionInfo": {
     "elapsed": 8,
     "status": "ok",
     "timestamp": 1666076836601,
     "user": {
      "displayName": "우타링/歌鈴",
      "userId": "15951206714118375491"
     },
     "user_tz": -540
    },
    "id": "3_jYjHUp6sZP",
    "outputId": "f5803c49-a72c-4a9e-aa53-c912f20c4619"
   },
   "outputs": [
    {
     "data": {
      "text/plain": [
       "{'n_estimators': 180,\n",
       " 'min_samples_split': 50,\n",
       " 'min_samples_leaf': 15,\n",
       " 'max_depth': 70}"
      ]
     },
     "execution_count": 56,
     "metadata": {},
     "output_type": "execute_result"
    }
   ],
   "source": [
    "model3.best_params_"
   ]
  },
  {
   "cell_type": "code",
   "execution_count": null,
   "metadata": {
    "id": "i424cdeY6xcf"
   },
   "outputs": [],
   "source": [
    "# n_estimators = 180, min_samples_split = 50, min_samples_leaf = 15, max_depth = 70\n",
    "# R2 : 0.70772\n",
    "# RMSE : 280.8726099030807"
   ]
  },
  {
   "cell_type": "markdown",
   "metadata": {
    "id": "N6EpiDE_qFWn"
   },
   "source": [
    "## Lasso"
   ]
  },
  {
   "cell_type": "code",
   "execution_count": null,
   "metadata": {
    "id": "o5-6uARPmBOT"
   },
   "outputs": [],
   "source": [
    "lasso = Lasso(alpha=0.0001, max_iter=100000)\n",
    "lasso.fit(train_x,train_y)\n",
    "pred = lasso.predict(test_x)"
   ]
  },
  {
   "cell_type": "code",
   "execution_count": null,
   "metadata": {
    "colab": {
     "base_uri": "https://localhost:8080/"
    },
    "executionInfo": {
     "elapsed": 15,
     "status": "ok",
     "timestamp": 1666073257367,
     "user": {
      "displayName": "명지은",
      "userId": "04202384612387598876"
     },
     "user_tz": -540
    },
    "id": "viwckf2Qm7tJ",
    "outputId": "0ad72816-1733-4240-dfc7-2d340cd318d4"
   },
   "outputs": [
    {
     "name": "stdout",
     "output_type": "stream",
     "text": [
      "훈련 세트의 정확도 : 0.73\n",
      "테스트 세트의 정확도 : 0.71\n",
      "사용한 특성의 수 : 105\n",
      "사용한 max_iter : 42846\n"
     ]
    }
   ],
   "source": [
    "print(\"훈련 세트의 정확도 : {:.2f}\".format(lasso.score(train_x, train_y)))\n",
    "print(\"테스트 세트의 정확도 : {:.2f}\".format(lasso.score(test_x, test_y)))\n",
    "print(\"사용한 특성의 수 : {}\".format(np.sum(lasso.coef_ != 0)))\n",
    "print(\"사용한 max_iter : {}\".format(lasso.n_iter_))"
   ]
  },
  {
   "cell_type": "code",
   "execution_count": null,
   "metadata": {
    "colab": {
     "base_uri": "https://localhost:8080/"
    },
    "executionInfo": {
     "elapsed": 13,
     "status": "ok",
     "timestamp": 1666073257368,
     "user": {
      "displayName": "명지은",
      "userId": "04202384612387598876"
     },
     "user_tz": -540
    },
    "id": "8lZU6m7tmny4",
    "outputId": "a0097f69-5894-4250-de72-e0d228d04421"
   },
   "outputs": [
    {
     "name": "stdout",
     "output_type": "stream",
     "text": [
      "279.3870660291991\n",
      "0.710806437805957\n"
     ]
    }
   ],
   "source": [
    "print(mean_squared_error(test_y, pred, squared = False))\n",
    "print(r2_score(test_y, pred))"
   ]
  },
  {
   "cell_type": "markdown",
   "metadata": {
    "id": "OCcLFT0hqUge"
   },
   "source": [
    "## Ridge"
   ]
  },
  {
   "cell_type": "code",
   "execution_count": null,
   "metadata": {
    "id": "WCN93-jCmuK4"
   },
   "outputs": [],
   "source": [
    "ridge = Ridge().fit(train_x,train_y)\n",
    "ridge01 = Ridge(alpha=0.1).fit(train_x,train_y)\n",
    "ridge10 = Ridge(alpha=10).fit(train_x,train_y)\n",
    "ridge_pred = ridge.predict(test_x)\n",
    "ridge_pred01 = ridge01.predict(test_x)\n",
    "pridge_red10 = ridge10.predict(test_x)"
   ]
  },
  {
   "cell_type": "code",
   "execution_count": null,
   "metadata": {
    "colab": {
     "base_uri": "https://localhost:8080/"
    },
    "executionInfo": {
     "elapsed": 11,
     "status": "ok",
     "timestamp": 1666073257369,
     "user": {
      "displayName": "명지은",
      "userId": "04202384612387598876"
     },
     "user_tz": -540
    },
    "id": "wIq5W3Jpq9y9",
    "outputId": "507931e9-a77a-45fe-8f85-a787cadb6725"
   },
   "outputs": [
    {
     "name": "stdout",
     "output_type": "stream",
     "text": [
      "훈련 세트의 정확도 : 0.73\n",
      "테스트 세트의 정확도 : 0.71\n",
      "사용한 특성의 수 : 108\n",
      "사용한 max_iter : None\n"
     ]
    }
   ],
   "source": [
    "print(\"훈련 세트의 정확도 : {:.2f}\".format(ridge.score(train_x, train_y)))\n",
    "print(\"테스트 세트의 정확도 : {:.2f}\".format(ridge.score(test_x, test_y)))\n",
    "print(\"사용한 특성의 수 : {}\".format(np.sum(ridge.coef_ != 0)))\n",
    "print(\"사용한 max_iter : {}\".format(ridge.n_iter_))"
   ]
  },
  {
   "cell_type": "code",
   "execution_count": null,
   "metadata": {
    "colab": {
     "base_uri": "https://localhost:8080/"
    },
    "executionInfo": {
     "elapsed": 9,
     "status": "ok",
     "timestamp": 1666073257369,
     "user": {
      "displayName": "명지은",
      "userId": "04202384612387598876"
     },
     "user_tz": -540
    },
    "id": "Xjf0ypyCq_T-",
    "outputId": "0b79e3b5-887e-49b4-aba8-c469e7e156a2"
   },
   "outputs": [
    {
     "name": "stdout",
     "output_type": "stream",
     "text": [
      "훈련 세트의 정확도 : 0.73\n",
      "테스트 세트의 정확도 : 0.71\n",
      "사용한 특성의 수 : 108\n",
      "사용한 max_iter : None\n"
     ]
    }
   ],
   "source": [
    "print(\"훈련 세트의 정확도 : {:.2f}\".format(ridge01.score(train_x, train_y)))\n",
    "print(\"테스트 세트의 정확도 : {:.2f}\".format(ridge01.score(test_x, test_y)))\n",
    "print(\"사용한 특성의 수 : {}\".format(np.sum(ridge01.coef_ != 0)))\n",
    "print(\"사용한 max_iter : {}\".format(ridge01.n_iter_))"
   ]
  },
  {
   "cell_type": "code",
   "execution_count": null,
   "metadata": {
    "colab": {
     "base_uri": "https://localhost:8080/"
    },
    "executionInfo": {
     "elapsed": 9,
     "status": "ok",
     "timestamp": 1666073257370,
     "user": {
      "displayName": "명지은",
      "userId": "04202384612387598876"
     },
     "user_tz": -540
    },
    "id": "C5m6jfWSq_Hl",
    "outputId": "a6463313-3890-4238-d248-e71b3a648f4a"
   },
   "outputs": [
    {
     "name": "stdout",
     "output_type": "stream",
     "text": [
      "훈련 세트의 정확도 : 0.73\n",
      "테스트 세트의 정확도 : 0.71\n",
      "사용한 특성의 수 : 108\n",
      "사용한 max_iter : None\n"
     ]
    }
   ],
   "source": [
    "print(\"훈련 세트의 정확도 : {:.2f}\".format(ridge10.score(train_x, train_y)))\n",
    "print(\"테스트 세트의 정확도 : {:.2f}\".format(ridge10.score(test_x, test_y)))\n",
    "print(\"사용한 특성의 수 : {}\".format(np.sum(ridge10.coef_ != 0)))\n",
    "print(\"사용한 max_iter : {}\".format(ridge10.n_iter_))"
   ]
  },
  {
   "cell_type": "markdown",
   "metadata": {
    "id": "y2rPCbWd9Qx-"
   },
   "source": [
    "# **2.새로운 전처리 전략**"
   ]
  },
  {
   "cell_type": "markdown",
   "metadata": {
    "id": "HExAXL6a_uJV"
   },
   "source": [
    "## 1) 날씨 데이터 추가"
   ]
  },
  {
   "cell_type": "markdown",
   "metadata": {
    "id": "wgTvbUIS-0XO"
   },
   "source": [
    "[기본 데이터]\n",
    "* 학습데이터 : onenavi_train.csv(7월 20일에서 24일 사이의 수도권 3~15km 주행데이터)\n",
    "* 평가데이터 : onenavi_evaluation.csv(7월 27일에서 31일 사이의 수도권 3~15km 주행데이터)"
   ]
  },
  {
   "cell_type": "markdown",
   "metadata": {
    "id": "Mv19PabF_Nkk"
   },
   "source": [
    "[추가 데이터]\n",
    "* 주소(시군구)데이터 : onenavi_pnu.csv(주행데이터를 기준으로 출발지의 주소 정보, key : RID)\n",
    "* 신호등(갯수)데이터 : onenavi_signal.csv(주행데이터를 기준으로 경로의 신호등 갯수, key : RID)\n",
    "* 날씨데이터 : onenavi_weather.csv(주행데이터를 기준으로 해당 일자의 수도권 날씨 정보, key : RID)"
   ]
  },
  {
   "cell_type": "markdown",
   "metadata": {
    "id": "BOleHLbT_Z40"
   },
   "source": [
    "[변수 소개]\n",
    "* RID : RouteID(경로 아이디로 주행 시 생성)\n",
    "* TIME_DEPARTUREDATE : 출발시간\n",
    "* TIME_ARRIVEDATE : 도착시간\n",
    "* A_DISTANCE : 실 주행 거리\n",
    "* ET : 실제 주행 시간\n",
    "* ETA : 원내비 예측 주행 시간\n",
    "* ETAA : 예측 주행 시간 정확도\n"
   ]
  },
  {
   "cell_type": "markdown",
   "metadata": {
    "id": "_Ib3giLPpAhX"
   },
   "source": [
    "1. pnu 합치기: level1_pnu와 level2_pnu 간의 변수 종속성이 의심됨"
   ]
  },
  {
   "cell_type": "code",
   "execution_count": null,
   "metadata": {
    "id": "1jKyAaOGpG0j"
   },
   "outputs": [],
   "source": [
    "data['pnu'] = data['level1_pnu'] + ' ' + data['level2_pnu']\n",
    "data.drop(columns=['level1_pnu', 'level2_pnu'], inplace=True)"
   ]
  },
  {
   "cell_type": "markdown",
   "metadata": {
    "id": "9WA0tE5YpOkl"
   },
   "source": [
    "2. prefix를 같은 값을 준다면 변수명이 겹치는 일이 일어남 -> 영향을 줄지는 모르겠지만 일단 변경"
   ]
  },
  {
   "cell_type": "code",
   "execution_count": null,
   "metadata": {
    "id": "EFPE6WL0pMwF"
   },
   "outputs": [],
   "source": [
    "data = pd.get_dummies(data, columns=['WEEKDAY'], prefix='weekday', drop_first=True)\n",
    "data = pd.get_dummies(data, columns=['HOUR'], prefix='hour', drop_first=True)\n",
    "data = pd.get_dummies(data, columns=['pnu'], prefix='pnu', drop_first=True)"
   ]
  },
  {
   "cell_type": "markdown",
   "metadata": {
    "id": "kr-_auuo_27d"
   },
   "source": [
    "## 2) 도시 교통 체증 데이터 feature 추가"
   ]
  },
  {
   "cell_type": "code",
   "execution_count": null,
   "metadata": {
    "colab": {
     "base_uri": "https://localhost:8080/",
     "height": 424
    },
    "executionInfo": {
     "elapsed": 971,
     "status": "ok",
     "timestamp": 1666076026676,
     "user": {
      "displayName": "최웅재",
      "userId": "03087746976218411209"
     },
     "user_tz": -540
    },
    "id": "3DYc70eN3TRf",
    "outputId": "77f006e2-0a8c-4f92-ff9d-8e30af01c17a"
   },
   "outputs": [
    {
     "data": {
      "text/html": [
       "\n",
       "  <div id=\"df-d6ad35bf-7169-4aba-9915-52e1ea45338e\">\n",
       "    <div class=\"colab-df-container\">\n",
       "      <div>\n",
       "<style scoped>\n",
       "    .dataframe tbody tr th:only-of-type {\n",
       "        vertical-align: middle;\n",
       "    }\n",
       "\n",
       "    .dataframe tbody tr th {\n",
       "        vertical-align: top;\n",
       "    }\n",
       "\n",
       "    .dataframe thead th {\n",
       "        text-align: right;\n",
       "    }\n",
       "</style>\n",
       "<table border=\"1\" class=\"dataframe\">\n",
       "  <thead>\n",
       "    <tr style=\"text-align: right;\">\n",
       "      <th></th>\n",
       "      <th>level1_pnu</th>\n",
       "      <th>level2_pnu</th>\n",
       "      <th>HOUR</th>\n",
       "      <th>DAY</th>\n",
       "      <th>RID</th>\n",
       "    </tr>\n",
       "  </thead>\n",
       "  <tbody>\n",
       "    <tr>\n",
       "      <th>0</th>\n",
       "      <td>경기도</td>\n",
       "      <td>가평군</td>\n",
       "      <td>1</td>\n",
       "      <td>22</td>\n",
       "      <td>1</td>\n",
       "    </tr>\n",
       "    <tr>\n",
       "      <th>1</th>\n",
       "      <td>경기도</td>\n",
       "      <td>가평군</td>\n",
       "      <td>3</td>\n",
       "      <td>23</td>\n",
       "      <td>1</td>\n",
       "    </tr>\n",
       "    <tr>\n",
       "      <th>2</th>\n",
       "      <td>경기도</td>\n",
       "      <td>가평군</td>\n",
       "      <td>6</td>\n",
       "      <td>22</td>\n",
       "      <td>1</td>\n",
       "    </tr>\n",
       "    <tr>\n",
       "      <th>3</th>\n",
       "      <td>경기도</td>\n",
       "      <td>가평군</td>\n",
       "      <td>6</td>\n",
       "      <td>23</td>\n",
       "      <td>1</td>\n",
       "    </tr>\n",
       "    <tr>\n",
       "      <th>4</th>\n",
       "      <td>경기도</td>\n",
       "      <td>가평군</td>\n",
       "      <td>8</td>\n",
       "      <td>20</td>\n",
       "      <td>1</td>\n",
       "    </tr>\n",
       "    <tr>\n",
       "      <th>...</th>\n",
       "      <td>...</td>\n",
       "      <td>...</td>\n",
       "      <td>...</td>\n",
       "      <td>...</td>\n",
       "      <td>...</td>\n",
       "    </tr>\n",
       "    <tr>\n",
       "      <th>6554</th>\n",
       "      <td>인천광역시</td>\n",
       "      <td>연수구</td>\n",
       "      <td>9</td>\n",
       "      <td>23</td>\n",
       "      <td>1</td>\n",
       "    </tr>\n",
       "    <tr>\n",
       "      <th>6555</th>\n",
       "      <td>인천광역시</td>\n",
       "      <td>연수구</td>\n",
       "      <td>17</td>\n",
       "      <td>21</td>\n",
       "      <td>1</td>\n",
       "    </tr>\n",
       "    <tr>\n",
       "      <th>6556</th>\n",
       "      <td>인천광역시</td>\n",
       "      <td>중구</td>\n",
       "      <td>9</td>\n",
       "      <td>23</td>\n",
       "      <td>1</td>\n",
       "    </tr>\n",
       "    <tr>\n",
       "      <th>6557</th>\n",
       "      <td>인천광역시</td>\n",
       "      <td>중구</td>\n",
       "      <td>10</td>\n",
       "      <td>24</td>\n",
       "      <td>1</td>\n",
       "    </tr>\n",
       "    <tr>\n",
       "      <th>6558</th>\n",
       "      <td>인천광역시</td>\n",
       "      <td>중구</td>\n",
       "      <td>17</td>\n",
       "      <td>21</td>\n",
       "      <td>1</td>\n",
       "    </tr>\n",
       "  </tbody>\n",
       "</table>\n",
       "<p>6559 rows × 5 columns</p>\n",
       "</div>\n",
       "      <button class=\"colab-df-convert\" onclick=\"convertToInteractive('df-d6ad35bf-7169-4aba-9915-52e1ea45338e')\"\n",
       "              title=\"Convert this dataframe to an interactive table.\"\n",
       "              style=\"display:none;\">\n",
       "        \n",
       "  <svg xmlns=\"http://www.w3.org/2000/svg\" height=\"24px\"viewBox=\"0 0 24 24\"\n",
       "       width=\"24px\">\n",
       "    <path d=\"M0 0h24v24H0V0z\" fill=\"none\"/>\n",
       "    <path d=\"M18.56 5.44l.94 2.06.94-2.06 2.06-.94-2.06-.94-.94-2.06-.94 2.06-2.06.94zm-11 1L8.5 8.5l.94-2.06 2.06-.94-2.06-.94L8.5 2.5l-.94 2.06-2.06.94zm10 10l.94 2.06.94-2.06 2.06-.94-2.06-.94-.94-2.06-.94 2.06-2.06.94z\"/><path d=\"M17.41 7.96l-1.37-1.37c-.4-.4-.92-.59-1.43-.59-.52 0-1.04.2-1.43.59L10.3 9.45l-7.72 7.72c-.78.78-.78 2.05 0 2.83L4 21.41c.39.39.9.59 1.41.59.51 0 1.02-.2 1.41-.59l7.78-7.78 2.81-2.81c.8-.78.8-2.07 0-2.86zM5.41 20L4 18.59l7.72-7.72 1.47 1.35L5.41 20z\"/>\n",
       "  </svg>\n",
       "      </button>\n",
       "      \n",
       "  <style>\n",
       "    .colab-df-container {\n",
       "      display:flex;\n",
       "      flex-wrap:wrap;\n",
       "      gap: 12px;\n",
       "    }\n",
       "\n",
       "    .colab-df-convert {\n",
       "      background-color: #E8F0FE;\n",
       "      border: none;\n",
       "      border-radius: 50%;\n",
       "      cursor: pointer;\n",
       "      display: none;\n",
       "      fill: #1967D2;\n",
       "      height: 32px;\n",
       "      padding: 0 0 0 0;\n",
       "      width: 32px;\n",
       "    }\n",
       "\n",
       "    .colab-df-convert:hover {\n",
       "      background-color: #E2EBFA;\n",
       "      box-shadow: 0px 1px 2px rgba(60, 64, 67, 0.3), 0px 1px 3px 1px rgba(60, 64, 67, 0.15);\n",
       "      fill: #174EA6;\n",
       "    }\n",
       "\n",
       "    [theme=dark] .colab-df-convert {\n",
       "      background-color: #3B4455;\n",
       "      fill: #D2E3FC;\n",
       "    }\n",
       "\n",
       "    [theme=dark] .colab-df-convert:hover {\n",
       "      background-color: #434B5C;\n",
       "      box-shadow: 0px 1px 3px 1px rgba(0, 0, 0, 0.15);\n",
       "      filter: drop-shadow(0px 1px 2px rgba(0, 0, 0, 0.3));\n",
       "      fill: #FFFFFF;\n",
       "    }\n",
       "  </style>\n",
       "\n",
       "      <script>\n",
       "        const buttonEl =\n",
       "          document.querySelector('#df-d6ad35bf-7169-4aba-9915-52e1ea45338e button.colab-df-convert');\n",
       "        buttonEl.style.display =\n",
       "          google.colab.kernel.accessAllowed ? 'block' : 'none';\n",
       "\n",
       "        async function convertToInteractive(key) {\n",
       "          const element = document.querySelector('#df-d6ad35bf-7169-4aba-9915-52e1ea45338e');\n",
       "          const dataTable =\n",
       "            await google.colab.kernel.invokeFunction('convertToInteractive',\n",
       "                                                     [key], {});\n",
       "          if (!dataTable) return;\n",
       "\n",
       "          const docLinkHtml = 'Like what you see? Visit the ' +\n",
       "            '<a target=\"_blank\" href=https://colab.research.google.com/notebooks/data_table.ipynb>data table notebook</a>'\n",
       "            + ' to learn more about interactive tables.';\n",
       "          element.innerHTML = '';\n",
       "          dataTable['output_type'] = 'display_data';\n",
       "          await google.colab.output.renderOutput(dataTable, element);\n",
       "          const docLink = document.createElement('div');\n",
       "          docLink.innerHTML = docLinkHtml;\n",
       "          element.appendChild(docLink);\n",
       "        }\n",
       "      </script>\n",
       "    </div>\n",
       "  </div>\n",
       "  "
      ],
      "text/plain": [
       "     level1_pnu level2_pnu  HOUR  DAY  RID\n",
       "0           경기도        가평군     1   22    1\n",
       "1           경기도        가평군     3   23    1\n",
       "2           경기도        가평군     6   22    1\n",
       "3           경기도        가평군     6   23    1\n",
       "4           경기도        가평군     8   20    1\n",
       "...         ...        ...   ...  ...  ...\n",
       "6554      인천광역시        연수구     9   23    1\n",
       "6555      인천광역시        연수구    17   21    1\n",
       "6556      인천광역시         중구     9   23    1\n",
       "6557      인천광역시         중구    10   24    1\n",
       "6558      인천광역시         중구    17   21    1\n",
       "\n",
       "[6559 rows x 5 columns]"
      ]
     },
     "execution_count": 90,
     "metadata": {},
     "output_type": "execute_result"
    }
   ],
   "source": [
    "raw_data_2_train_count"
   ]
  },
  {
   "cell_type": "code",
   "execution_count": null,
   "metadata": {
    "colab": {
     "base_uri": "https://localhost:8080/",
     "height": 1000
    },
    "executionInfo": {
     "elapsed": 7,
     "status": "ok",
     "timestamp": 1666076198917,
     "user": {
      "displayName": "최웅재",
      "userId": "03087746976218411209"
     },
     "user_tz": -540
    },
    "id": "tIr9_If13w-t",
    "outputId": "7c68f0ce-994b-4199-e9d3-c85ee1138fd6"
   },
   "outputs": [
    {
     "data": {
      "text/html": [
       "\n",
       "  <div id=\"df-9c736c9d-9050-4df0-9346-1be67049fd77\">\n",
       "    <div class=\"colab-df-container\">\n",
       "      <div>\n",
       "<style scoped>\n",
       "    .dataframe tbody tr th:only-of-type {\n",
       "        vertical-align: middle;\n",
       "    }\n",
       "\n",
       "    .dataframe tbody tr th {\n",
       "        vertical-align: top;\n",
       "    }\n",
       "\n",
       "    .dataframe thead th {\n",
       "        text-align: right;\n",
       "    }\n",
       "</style>\n",
       "<table border=\"1\" class=\"dataframe\">\n",
       "  <thead>\n",
       "    <tr style=\"text-align: right;\">\n",
       "      <th></th>\n",
       "      <th>RID_x</th>\n",
       "      <th>A_DISTANCE</th>\n",
       "      <th>ET</th>\n",
       "      <th>ETA</th>\n",
       "      <th>ETAA</th>\n",
       "      <th>level1_pnu</th>\n",
       "      <th>level2_pnu</th>\n",
       "      <th>signaltype</th>\n",
       "      <th>PerHour</th>\n",
       "      <th>WEEKDAY</th>\n",
       "      <th>HOUR</th>\n",
       "      <th>DAY</th>\n",
       "      <th>RID_y</th>\n",
       "    </tr>\n",
       "  </thead>\n",
       "  <tbody>\n",
       "    <tr>\n",
       "      <th>0</th>\n",
       "      <td>router-84875df7fc-b5nxc-7-20255166-0</td>\n",
       "      <td>12914.0</td>\n",
       "      <td>1201.534058</td>\n",
       "      <td>987.624634</td>\n",
       "      <td>82.196974</td>\n",
       "      <td>경기도</td>\n",
       "      <td>광명시</td>\n",
       "      <td>7.0</td>\n",
       "      <td>38.692536</td>\n",
       "      <td>0</td>\n",
       "      <td>5</td>\n",
       "      <td>20</td>\n",
       "      <td>2</td>\n",
       "    </tr>\n",
       "    <tr>\n",
       "      <th>1</th>\n",
       "      <td>router-84875df7fc-8n4sw-6-20478618-0</td>\n",
       "      <td>3133.0</td>\n",
       "      <td>244.360001</td>\n",
       "      <td>283.873749</td>\n",
       "      <td>83.829699</td>\n",
       "      <td>경기도</td>\n",
       "      <td>광명시</td>\n",
       "      <td>3.0</td>\n",
       "      <td>46.156490</td>\n",
       "      <td>0</td>\n",
       "      <td>5</td>\n",
       "      <td>20</td>\n",
       "      <td>2</td>\n",
       "    </tr>\n",
       "    <tr>\n",
       "      <th>2</th>\n",
       "      <td>router-84875df7fc-b5nxc-6-10888379-0</td>\n",
       "      <td>7483.0</td>\n",
       "      <td>823.817017</td>\n",
       "      <td>855.933716</td>\n",
       "      <td>96.101477</td>\n",
       "      <td>서울특별시</td>\n",
       "      <td>영등포구</td>\n",
       "      <td>31.0</td>\n",
       "      <td>32.699980</td>\n",
       "      <td>0</td>\n",
       "      <td>5</td>\n",
       "      <td>20</td>\n",
       "      <td>5</td>\n",
       "    </tr>\n",
       "    <tr>\n",
       "      <th>3</th>\n",
       "      <td>router-84875df7fc-b5nxc-1-6273195-0</td>\n",
       "      <td>4404.0</td>\n",
       "      <td>288.588013</td>\n",
       "      <td>298.466125</td>\n",
       "      <td>96.577088</td>\n",
       "      <td>서울특별시</td>\n",
       "      <td>영등포구</td>\n",
       "      <td>2.0</td>\n",
       "      <td>54.937833</td>\n",
       "      <td>0</td>\n",
       "      <td>5</td>\n",
       "      <td>20</td>\n",
       "      <td>5</td>\n",
       "    </tr>\n",
       "    <tr>\n",
       "      <th>4</th>\n",
       "      <td>router-84875df7fc-b5nxc-1-6273884-0</td>\n",
       "      <td>5277.0</td>\n",
       "      <td>546.008972</td>\n",
       "      <td>648.721497</td>\n",
       "      <td>81.188491</td>\n",
       "      <td>서울특별시</td>\n",
       "      <td>영등포구</td>\n",
       "      <td>10.0</td>\n",
       "      <td>34.792835</td>\n",
       "      <td>0</td>\n",
       "      <td>5</td>\n",
       "      <td>20</td>\n",
       "      <td>5</td>\n",
       "    </tr>\n",
       "    <tr>\n",
       "      <th>...</th>\n",
       "      <td>...</td>\n",
       "      <td>...</td>\n",
       "      <td>...</td>\n",
       "      <td>...</td>\n",
       "      <td>...</td>\n",
       "      <td>...</td>\n",
       "      <td>...</td>\n",
       "      <td>...</td>\n",
       "      <td>...</td>\n",
       "      <td>...</td>\n",
       "      <td>...</td>\n",
       "      <td>...</td>\n",
       "      <td>...</td>\n",
       "    </tr>\n",
       "    <tr>\n",
       "      <th>55428</th>\n",
       "      <td>router-84875df7fc-cmkz9-7-56731250-0</td>\n",
       "      <td>10130.0</td>\n",
       "      <td>735.458008</td>\n",
       "      <td>745.946228</td>\n",
       "      <td>98.573920</td>\n",
       "      <td>경기도</td>\n",
       "      <td>용인시 처인구</td>\n",
       "      <td>15.0</td>\n",
       "      <td>49.585428</td>\n",
       "      <td>4</td>\n",
       "      <td>23</td>\n",
       "      <td>24</td>\n",
       "      <td>2</td>\n",
       "    </tr>\n",
       "    <tr>\n",
       "      <th>55429</th>\n",
       "      <td>router-84875df7fc-8n4sw-2-7744879-0</td>\n",
       "      <td>5029.0</td>\n",
       "      <td>551.458008</td>\n",
       "      <td>390.452301</td>\n",
       "      <td>70.803632</td>\n",
       "      <td>경기도</td>\n",
       "      <td>포천시</td>\n",
       "      <td>19.0</td>\n",
       "      <td>32.830061</td>\n",
       "      <td>4</td>\n",
       "      <td>23</td>\n",
       "      <td>24</td>\n",
       "      <td>1</td>\n",
       "    </tr>\n",
       "    <tr>\n",
       "      <th>55430</th>\n",
       "      <td>router-84875df7fc-b5nxc-4-60270096-0</td>\n",
       "      <td>10619.0</td>\n",
       "      <td>899.088013</td>\n",
       "      <td>808.205933</td>\n",
       "      <td>89.891748</td>\n",
       "      <td>경기도</td>\n",
       "      <td>구리시</td>\n",
       "      <td>28.0</td>\n",
       "      <td>42.519085</td>\n",
       "      <td>4</td>\n",
       "      <td>23</td>\n",
       "      <td>24</td>\n",
       "      <td>1</td>\n",
       "    </tr>\n",
       "    <tr>\n",
       "      <th>55431</th>\n",
       "      <td>router-84875df7fc-b5nxc-7-25052984-0</td>\n",
       "      <td>10306.0</td>\n",
       "      <td>785.568970</td>\n",
       "      <td>830.402222</td>\n",
       "      <td>94.292894</td>\n",
       "      <td>경기도</td>\n",
       "      <td>오산시</td>\n",
       "      <td>15.0</td>\n",
       "      <td>47.228953</td>\n",
       "      <td>4</td>\n",
       "      <td>23</td>\n",
       "      <td>24</td>\n",
       "      <td>1</td>\n",
       "    </tr>\n",
       "    <tr>\n",
       "      <th>55432</th>\n",
       "      <td>router-84875df7fc-52vz8-6-55929658-0</td>\n",
       "      <td>10163.0</td>\n",
       "      <td>946.169983</td>\n",
       "      <td>1070.794067</td>\n",
       "      <td>86.828573</td>\n",
       "      <td>경기도</td>\n",
       "      <td>안양시 동안구</td>\n",
       "      <td>28.0</td>\n",
       "      <td>38.668316</td>\n",
       "      <td>4</td>\n",
       "      <td>23</td>\n",
       "      <td>24</td>\n",
       "      <td>1</td>\n",
       "    </tr>\n",
       "  </tbody>\n",
       "</table>\n",
       "<p>55433 rows × 13 columns</p>\n",
       "</div>\n",
       "      <button class=\"colab-df-convert\" onclick=\"convertToInteractive('df-9c736c9d-9050-4df0-9346-1be67049fd77')\"\n",
       "              title=\"Convert this dataframe to an interactive table.\"\n",
       "              style=\"display:none;\">\n",
       "        \n",
       "  <svg xmlns=\"http://www.w3.org/2000/svg\" height=\"24px\"viewBox=\"0 0 24 24\"\n",
       "       width=\"24px\">\n",
       "    <path d=\"M0 0h24v24H0V0z\" fill=\"none\"/>\n",
       "    <path d=\"M18.56 5.44l.94 2.06.94-2.06 2.06-.94-2.06-.94-.94-2.06-.94 2.06-2.06.94zm-11 1L8.5 8.5l.94-2.06 2.06-.94-2.06-.94L8.5 2.5l-.94 2.06-2.06.94zm10 10l.94 2.06.94-2.06 2.06-.94-2.06-.94-.94-2.06-.94 2.06-2.06.94z\"/><path d=\"M17.41 7.96l-1.37-1.37c-.4-.4-.92-.59-1.43-.59-.52 0-1.04.2-1.43.59L10.3 9.45l-7.72 7.72c-.78.78-.78 2.05 0 2.83L4 21.41c.39.39.9.59 1.41.59.51 0 1.02-.2 1.41-.59l7.78-7.78 2.81-2.81c.8-.78.8-2.07 0-2.86zM5.41 20L4 18.59l7.72-7.72 1.47 1.35L5.41 20z\"/>\n",
       "  </svg>\n",
       "      </button>\n",
       "      \n",
       "  <style>\n",
       "    .colab-df-container {\n",
       "      display:flex;\n",
       "      flex-wrap:wrap;\n",
       "      gap: 12px;\n",
       "    }\n",
       "\n",
       "    .colab-df-convert {\n",
       "      background-color: #E8F0FE;\n",
       "      border: none;\n",
       "      border-radius: 50%;\n",
       "      cursor: pointer;\n",
       "      display: none;\n",
       "      fill: #1967D2;\n",
       "      height: 32px;\n",
       "      padding: 0 0 0 0;\n",
       "      width: 32px;\n",
       "    }\n",
       "\n",
       "    .colab-df-convert:hover {\n",
       "      background-color: #E2EBFA;\n",
       "      box-shadow: 0px 1px 2px rgba(60, 64, 67, 0.3), 0px 1px 3px 1px rgba(60, 64, 67, 0.15);\n",
       "      fill: #174EA6;\n",
       "    }\n",
       "\n",
       "    [theme=dark] .colab-df-convert {\n",
       "      background-color: #3B4455;\n",
       "      fill: #D2E3FC;\n",
       "    }\n",
       "\n",
       "    [theme=dark] .colab-df-convert:hover {\n",
       "      background-color: #434B5C;\n",
       "      box-shadow: 0px 1px 3px 1px rgba(0, 0, 0, 0.15);\n",
       "      filter: drop-shadow(0px 1px 2px rgba(0, 0, 0, 0.3));\n",
       "      fill: #FFFFFF;\n",
       "    }\n",
       "  </style>\n",
       "\n",
       "      <script>\n",
       "        const buttonEl =\n",
       "          document.querySelector('#df-9c736c9d-9050-4df0-9346-1be67049fd77 button.colab-df-convert');\n",
       "        buttonEl.style.display =\n",
       "          google.colab.kernel.accessAllowed ? 'block' : 'none';\n",
       "\n",
       "        async function convertToInteractive(key) {\n",
       "          const element = document.querySelector('#df-9c736c9d-9050-4df0-9346-1be67049fd77');\n",
       "          const dataTable =\n",
       "            await google.colab.kernel.invokeFunction('convertToInteractive',\n",
       "                                                     [key], {});\n",
       "          if (!dataTable) return;\n",
       "\n",
       "          const docLinkHtml = 'Like what you see? Visit the ' +\n",
       "            '<a target=\"_blank\" href=https://colab.research.google.com/notebooks/data_table.ipynb>data table notebook</a>'\n",
       "            + ' to learn more about interactive tables.';\n",
       "          element.innerHTML = '';\n",
       "          dataTable['output_type'] = 'display_data';\n",
       "          await google.colab.output.renderOutput(dataTable, element);\n",
       "          const docLink = document.createElement('div');\n",
       "          docLink.innerHTML = docLinkHtml;\n",
       "          element.appendChild(docLink);\n",
       "        }\n",
       "      </script>\n",
       "    </div>\n",
       "  </div>\n",
       "  "
      ],
      "text/plain": [
       "                                      RID_x  A_DISTANCE           ET  \\\n",
       "0      router-84875df7fc-b5nxc-7-20255166-0     12914.0  1201.534058   \n",
       "1      router-84875df7fc-8n4sw-6-20478618-0      3133.0   244.360001   \n",
       "2      router-84875df7fc-b5nxc-6-10888379-0      7483.0   823.817017   \n",
       "3       router-84875df7fc-b5nxc-1-6273195-0      4404.0   288.588013   \n",
       "4       router-84875df7fc-b5nxc-1-6273884-0      5277.0   546.008972   \n",
       "...                                     ...         ...          ...   \n",
       "55428  router-84875df7fc-cmkz9-7-56731250-0     10130.0   735.458008   \n",
       "55429   router-84875df7fc-8n4sw-2-7744879-0      5029.0   551.458008   \n",
       "55430  router-84875df7fc-b5nxc-4-60270096-0     10619.0   899.088013   \n",
       "55431  router-84875df7fc-b5nxc-7-25052984-0     10306.0   785.568970   \n",
       "55432  router-84875df7fc-52vz8-6-55929658-0     10163.0   946.169983   \n",
       "\n",
       "               ETA       ETAA level1_pnu level2_pnu  signaltype    PerHour  \\\n",
       "0       987.624634  82.196974        경기도        광명시         7.0  38.692536   \n",
       "1       283.873749  83.829699        경기도        광명시         3.0  46.156490   \n",
       "2       855.933716  96.101477      서울특별시       영등포구        31.0  32.699980   \n",
       "3       298.466125  96.577088      서울특별시       영등포구         2.0  54.937833   \n",
       "4       648.721497  81.188491      서울특별시       영등포구        10.0  34.792835   \n",
       "...            ...        ...        ...        ...         ...        ...   \n",
       "55428   745.946228  98.573920        경기도    용인시 처인구        15.0  49.585428   \n",
       "55429   390.452301  70.803632        경기도        포천시        19.0  32.830061   \n",
       "55430   808.205933  89.891748        경기도        구리시        28.0  42.519085   \n",
       "55431   830.402222  94.292894        경기도        오산시        15.0  47.228953   \n",
       "55432  1070.794067  86.828573        경기도    안양시 동안구        28.0  38.668316   \n",
       "\n",
       "       WEEKDAY  HOUR  DAY  RID_y  \n",
       "0            0     5   20      2  \n",
       "1            0     5   20      2  \n",
       "2            0     5   20      5  \n",
       "3            0     5   20      5  \n",
       "4            0     5   20      5  \n",
       "...        ...   ...  ...    ...  \n",
       "55428        4    23   24      2  \n",
       "55429        4    23   24      1  \n",
       "55430        4    23   24      1  \n",
       "55431        4    23   24      1  \n",
       "55432        4    23   24      1  \n",
       "\n",
       "[55433 rows x 13 columns]"
      ]
     },
     "execution_count": 92,
     "metadata": {},
     "output_type": "execute_result"
    }
   ],
   "source": [
    "raw_data_2_train = pd.merge(raw_data_2_train, raw_data_2_train_count, on = ['level1_pnu', 'level2_pnu','HOUR','DAY'])\n",
    "raw_data_2_train"
   ]
  },
  {
   "cell_type": "markdown",
   "metadata": {
    "id": "exnxm5uyHS7r"
   },
   "source": [
    "# **3.사용 모델**"
   ]
  },
  {
   "cell_type": "markdown",
   "metadata": {
    "id": "145qF6T1IdWc"
   },
   "source": [
    "* xgb\n",
    "* catboost\n",
    "* 딥러닝\n",
    "* ensemble stacking\n",
    "* BayesianRidge\n",
    "\n"
   ]
  },
  {
   "cell_type": "markdown",
   "metadata": {
    "id": "aaAv3_k2Noip"
   },
   "source": [
    "## 1) xgb"
   ]
  },
  {
   "cell_type": "markdown",
   "metadata": {
    "id": "SdZetj8qXoew"
   },
   "source": [
    "* 1) 데이터 처리"
   ]
  },
  {
   "cell_type": "code",
   "execution_count": null,
   "metadata": {
    "id": "uSEOXHOZGEJB"
   },
   "outputs": [],
   "source": [
    "from xgboost import XGBRegressor\n",
    "from sklearn.metrics import r2_score, mean_squared_error\n",
    "\n",
    "# train_x = train_x.drop(columns=['temp', 'precipitation'])\n",
    "# test_x = test_x.drop(columns=['temp', 'precipitation'])\n",
    "\n",
    "xgb_model = XGBRegressor(n_estimators=100,\n",
    "                     gamma=1,\n",
    "                     eta=0.1,\n",
    "                     max_depth=5,\n",
    "                     reg_lambda=5,\n",
    "                     reg_alpha=5,\n",
    "                     random_state=42\n",
    "                    )\n",
    "xgb_model.fit(train_x, train_y.values.ravel())\n",
    "pred = xgb_model.predict(test_x)\n",
    "print(round(r2_score(test_y, pred), 5)) # 0.72319\n",
    "print(round(mean_squared_error(test_y, pred, squared=False), 5)) # 212.13837"
   ]
  },
  {
   "cell_type": "markdown",
   "metadata": {
    "id": "rBQ8v6ViXw3e"
   },
   "source": [
    "* 2) 데이터 처리"
   ]
  },
  {
   "cell_type": "code",
   "execution_count": null,
   "metadata": {
    "id": "mmJHkINgBp5C"
   },
   "outputs": [],
   "source": [
    "from xgboost import XGBRegressor\n",
    "from sklearn.metrics import r2_score, mean_squared_error\n",
    "\n",
    "train_y = train_y['ET']\n",
    "test_y = test_y['ET']\n",
    "\n",
    "xgb_model = XGBRegressor(n_estimators=100,\n",
    "                     gamma=1,\n",
    "                     eta=0.1,\n",
    "                     max_depth=5,\n",
    "                     reg_lambda=5,\n",
    "                     reg_alpha=5,\n",
    "                     random_state=42\n",
    "                    )\n",
    "xgb_model.fit(train_x, train_y.values.ravel())\n",
    "pred = xgb_model.predict(test_x)\n",
    "print(round(r2_score(test_y, pred), 5)) # 0.73264\n",
    "print(round(mean_squared_error(test_y, pred, squared=False), 5)) # 254.63692"
   ]
  },
  {
   "cell_type": "markdown",
   "metadata": {
    "id": "Tf-SEsbbNode"
   },
   "source": [
    "## 2) catboost"
   ]
  },
  {
   "cell_type": "markdown",
   "metadata": {
    "id": "pmPCihcVX73B"
   },
   "source": [
    "* 0) 데이터 처리 x"
   ]
  },
  {
   "cell_type": "code",
   "execution_count": null,
   "metadata": {
    "id": "bAbeMBG5zHca"
   },
   "outputs": [],
   "source": [
    "from catboost import CatBoostRegressor\n",
    "\n",
    "cat = CatBoostRegressor()"
   ]
  },
  {
   "cell_type": "code",
   "execution_count": null,
   "metadata": {
    "id": "vLWJLes51PYv"
   },
   "outputs": [],
   "source": [
    "cat.fit(train_x,train_y)"
   ]
  },
  {
   "cell_type": "code",
   "execution_count": null,
   "metadata": {
    "colab": {
     "base_uri": "https://localhost:8080/"
    },
    "executionInfo": {
     "elapsed": 4,
     "status": "ok",
     "timestamp": 1666079095759,
     "user": {
      "displayName": "백선호",
      "userId": "11426685653262706714"
     },
     "user_tz": -540
    },
    "id": "NRHUyhIkDTbv",
    "outputId": "1824255e-ead1-4e5c-9b10-804a91246926"
   },
   "outputs": [
    {
     "data": {
      "text/plain": [
       "0        555.546997\n",
       "1        397.209015\n",
       "2        720.645996\n",
       "3        943.086975\n",
       "4        196.244003\n",
       "            ...    \n",
       "53737    438.523010\n",
       "53738    458.688995\n",
       "53739    478.945007\n",
       "53740    223.481995\n",
       "53741    330.881989\n",
       "Name: ET, Length: 53742, dtype: float64"
      ]
     },
     "execution_count": 77,
     "metadata": {},
     "output_type": "execute_result"
    }
   ],
   "source": [
    "test_y['ET']"
   ]
  },
  {
   "cell_type": "code",
   "execution_count": null,
   "metadata": {
    "colab": {
     "base_uri": "https://localhost:8080/"
    },
    "executionInfo": {
     "elapsed": 4,
     "status": "ok",
     "timestamp": 1666079106519,
     "user": {
      "displayName": "백선호",
      "userId": "11426685653262706714"
     },
     "user_tz": -540
    },
    "id": "y5cPrZrbC8Qn",
    "outputId": "ea5cc640-0ff8-42c3-b0bc-dfc7249a3d1d"
   },
   "outputs": [
    {
     "data": {
      "text/plain": [
       "0.7378173293909649"
      ]
     },
     "execution_count": 78,
     "metadata": {},
     "output_type": "execute_result"
    }
   ],
   "source": [
    "pred = cat.predict(test_x)\n",
    "r2_score(test_y['ET'], pred)"
   ]
  },
  {
   "cell_type": "markdown",
   "metadata": {
    "id": "KrYRvHVhYPO_"
   },
   "source": [
    "* 1) 데이터 처리 "
   ]
  },
  {
   "cell_type": "code",
   "execution_count": null,
   "metadata": {
    "id": "unp5JZZPJtsx",
    "outputId": "98b0c0a5-4fc6-4467-f02f-1fdd0b000ed8"
   },
   "outputs": [
    {
     "data": {
      "text/plain": [
       "0.7549756853440808"
      ]
     },
     "execution_count": 10,
     "metadata": {},
     "output_type": "execute_result"
    }
   ],
   "source": [
    "from sklearn.metrics import r2_score,mean_squared_error, mean_absolute_error, mean_absolute_percentage_error\n",
    "pred = cat2.predict(test_x_with_weather)\n",
    "r2_score(test_y_with_weather, pred)"
   ]
  },
  {
   "cell_type": "markdown",
   "metadata": {
    "id": "F1eADUgJYGb3"
   },
   "source": [
    "* 2) 데이터 처리 "
   ]
  },
  {
   "cell_type": "code",
   "execution_count": null,
   "metadata": {
    "id": "XYr6AzUhn4Gz",
    "outputId": "f44e7c93-889e-4cf6-fa67-0e094adbcb70"
   },
   "outputs": [
    {
     "name": "stdout",
     "output_type": "stream",
     "text": [
      "0.7345078827317261\n"
     ]
    }
   ],
   "source": [
    "from sklearn.metrics import r2_score,mean_squared_error, mean_absolute_error, mean_absolute_percentage_error\n",
    "print(r2_score(test_y['ET'],pred))"
   ]
  },
  {
   "cell_type": "markdown",
   "metadata": {
    "id": "5AzBRPupYbwX"
   },
   "source": [
    "### 튜닝"
   ]
  },
  {
   "cell_type": "code",
   "execution_count": null,
   "metadata": {
    "id": "GbaCL2YAjBX0"
   },
   "outputs": [],
   "source": [
    "# 아래에 실습코드를 작성하세요.\n",
    "from catboost import CatBoostRegressor\n",
    "\n",
    "cat = CatBoostRegressor()\n",
    "\n",
    "# 최적의 파라미터 값 찾아보기\n",
    "from sklearn.model_selection import GridSearchCV\n",
    "# CAT\n",
    "param_cat2 = {\"depth\" : [6,8,10],\n",
    "          \"iterations\" : [250,500,700],\n",
    "          \"learning_rate\" : [0.1,0.2,0.3], \n",
    "          \"l2_leaf_reg\" : [2,10,20]\n",
    "          }\n",
    "\n",
    "# cv = StratifiedKFold(n_splits=5, shuffle = True, random_state=42)\n",
    "gscv_cat2 = GridSearchCV (estimator = cat, param_grid = param_cat2, scoring ='accuracy', cv = 3, refit=True, n_jobs=1, verbose=2)\n",
    "gscv_cat2.fit(train_x_with_weather,train_y_with_weather)"
   ]
  },
  {
   "cell_type": "markdown",
   "metadata": {
    "id": "JzKe6MjaYip_"
   },
   "source": [
    "* 1) 데이터 처리"
   ]
  },
  {
   "cell_type": "code",
   "execution_count": null,
   "metadata": {
    "id": "s8Hx8XEssLVx",
    "outputId": "f1dc280f-cf74-4be7-9b09-f4acdf5c5811"
   },
   "outputs": [
    {
     "data": {
      "text/plain": [
       "0.7430666820995188"
      ]
     },
     "execution_count": 12,
     "metadata": {},
     "output_type": "execute_result"
    }
   ],
   "source": [
    "from sklearn.metrics import r2_score,mean_squared_error, mean_absolute_error, mean_absolute_percentage_error\n",
    "pred2 = gscv_cat2.predict(test_x_with_weather)\n",
    "r2_score(test_y_with_weather, pred2)"
   ]
  },
  {
   "cell_type": "markdown",
   "metadata": {
    "id": "zepqVHVnYkx2"
   },
   "source": [
    "* 2) 데이터 처리"
   ]
  },
  {
   "cell_type": "code",
   "execution_count": null,
   "metadata": {
    "colab": {
     "base_uri": "https://localhost:8080/"
    },
    "id": "RRGQIlukYsII",
    "outputId": "ea5cc640-0ff8-42c3-b0bc-dfc7249a3d1d"
   },
   "outputs": [
    {
     "data": {
      "text/plain": [
       "0.7378173293909649"
      ]
     },
     "execution_count": 14,
     "metadata": {},
     "output_type": "execute_result"
    }
   ],
   "source": [
    "pred = cat.predict(test_x)\n",
    "r2_score(test_y['ET'], pred)"
   ]
  },
  {
   "cell_type": "markdown",
   "metadata": {
    "id": "p2OvOy2NNoXb"
   },
   "source": [
    "## 3) 딥러닝 cnn"
   ]
  },
  {
   "cell_type": "code",
   "execution_count": null,
   "metadata": {
    "colab": {
     "base_uri": "https://localhost:8080/"
    },
    "executionInfo": {
     "elapsed": 9,
     "status": "ok",
     "timestamp": 1666074736083,
     "user": {
      "displayName": "김성중/전자공학과/학생",
      "userId": "02992730359020769656"
     },
     "user_tz": -540
    },
    "id": "9aUTyPg_xyBB",
    "outputId": "b6c45ab5-723c-4419-c3fb-eb3c631bfd2c"
   },
   "outputs": [
    {
     "name": "stdout",
     "output_type": "stream",
     "text": [
      "Model: \"sequential\"\n",
      "_________________________________________________________________\n",
      " Layer (type)                Output Shape              Param #   \n",
      "=================================================================\n",
      " dense (Dense)               (None, 400)               42000     \n",
      "                                                                 \n",
      " dropout (Dropout)           (None, 400)               0         \n",
      "                                                                 \n",
      " dense_1 (Dense)             (None, 200)               80200     \n",
      "                                                                 \n",
      " dropout_1 (Dropout)         (None, 200)               0         \n",
      "                                                                 \n",
      " dense_2 (Dense)             (None, 100)               20100     \n",
      "                                                                 \n",
      " dense_3 (Dense)             (None, 50)                5050      \n",
      "                                                                 \n",
      " dense_4 (Dense)             (None, 24)                1224      \n",
      "                                                                 \n",
      " dense_5 (Dense)             (None, 12)                300       \n",
      "                                                                 \n",
      " dense_6 (Dense)             (None, 6)                 78        \n",
      "                                                                 \n",
      " dense_7 (Dense)             (None, 1)                 7         \n",
      "                                                                 \n",
      "=================================================================\n",
      "Total params: 148,959\n",
      "Trainable params: 148,959\n",
      "Non-trainable params: 0\n",
      "_________________________________________________________________\n"
     ]
    }
   ],
   "source": [
    "keras.backend.clear_session()\n",
    "\n",
    "model = keras.models.Sequential()\n",
    "model.add(keras.layers.Input(shape=(104,)))\n",
    "model.add(keras.layers.Dense(400, activation='relu'))\n",
    "model.add(keras.layers.Dropout(0.5))\n",
    "model.add(keras.layers.Dense(200, activation='relu'))\n",
    "model.add(keras.layers.Dropout(0.5))\n",
    "model.add(keras.layers.Dense(100, activation='relu'))\n",
    "model.add(keras.layers.Dense(50, activation='relu'))\n",
    "model.add(keras.layers.Dense(24, activation='relu'))\n",
    "model.add(keras.layers.Dense(12, activation='relu'))\n",
    "model.add(keras.layers.Dense(6, activation='relu'))\n",
    "model.add(keras.layers.Dense(1))\n",
    "\n",
    "model.compile(loss='mse', optimizer='adam', metrics=[keras.metrics.mae])\n",
    "\n",
    "model.summary()"
   ]
  },
  {
   "cell_type": "code",
   "execution_count": null,
   "metadata": {
    "colab": {
     "base_uri": "https://localhost:8080/"
    },
    "executionInfo": {
     "elapsed": 4,
     "status": "ok",
     "timestamp": 1666074902767,
     "user": {
      "displayName": "김성중/전자공학과/학생",
      "userId": "02992730359020769656"
     },
     "user_tz": -540
    },
    "id": "Wzqr9Aohmlud",
    "outputId": "b1a50726-4cf0-4be5-a10f-5153c50e155a"
   },
   "outputs": [
    {
     "name": "stdout",
     "output_type": "stream",
     "text": [
      "Model: \"sequential\"\n",
      "_________________________________________________________________\n",
      " Layer (type)                Output Shape              Param #   \n",
      "=================================================================\n",
      " dense (Dense)               (None, 100)               10500     \n",
      "                                                                 \n",
      " dense_1 (Dense)             (None, 50)                5050      \n",
      "                                                                 \n",
      " dense_2 (Dense)             (None, 24)                1224      \n",
      "                                                                 \n",
      " dense_3 (Dense)             (None, 12)                300       \n",
      "                                                                 \n",
      " dense_4 (Dense)             (None, 6)                 78        \n",
      "                                                                 \n",
      " dense_5 (Dense)             (None, 1)                 7         \n",
      "                                                                 \n",
      "=================================================================\n",
      "Total params: 17,159\n",
      "Trainable params: 17,159\n",
      "Non-trainable params: 0\n",
      "_________________________________________________________________\n"
     ]
    }
   ],
   "source": [
    "keras.backend.clear_session()\n",
    "\n",
    "model = keras.models.Sequential()\n",
    "model.add(keras.layers.Input(shape=(104,)))\n",
    "model.add(keras.layers.Dense(100, activation='relu'))\n",
    "model.add(keras.layers.Dense(50, activation='relu'))\n",
    "model.add(keras.layers.Dense(24, activation='relu'))\n",
    "model.add(keras.layers.Dense(12, activation='relu'))\n",
    "model.add(keras.layers.Dense(6, activation='relu'))\n",
    "model.add(keras.layers.Dense(1))\n",
    "\n",
    "model.compile(loss='mse', optimizer='adam', metrics=[keras.metrics.mae])\n",
    "\n",
    "model.summary()"
   ]
  },
  {
   "cell_type": "code",
   "execution_count": null,
   "metadata": {
    "id": "QPHbFZh9pLE-"
   },
   "outputs": [],
   "source": [
    "from tensorflow.keras.callbacks import EarlyStopping\n",
    "\n",
    "es = EarlyStopping(monitor='val_loss', min_delta=0, patience=7, restore_best_weights=True)"
   ]
  },
  {
   "cell_type": "code",
   "execution_count": null,
   "metadata": {
    "id": "4l3EN4Tuo4V5"
   },
   "outputs": [],
   "source": [
    "model.fit(x_train, y_train, epochs=50, verbose=1, validation_split=0.2, callbacks=[es])"
   ]
  },
  {
   "cell_type": "code",
   "execution_count": null,
   "metadata": {
    "id": "31i7p0jcs9Yi"
   },
   "outputs": [],
   "source": [
    "from sklearn.metrics import r2_score"
   ]
  },
  {
   "cell_type": "code",
   "execution_count": null,
   "metadata": {
    "colab": {
     "base_uri": "https://localhost:8080/"
    },
    "executionInfo": {
     "elapsed": 43479,
     "status": "ok",
     "timestamp": 1666074991192,
     "user": {
      "displayName": "김성중/전자공학과/학생",
      "userId": "02992730359020769656"
     },
     "user_tz": -540
    },
    "id": "6h_S8SM8pnL4",
    "outputId": "cb3026f4-a9ca-4c66-8dd4-e01da7e1ffa7"
   },
   "outputs": [
    {
     "name": "stdout",
     "output_type": "stream",
     "text": [
      "1677/1677 [==============================] - 2s 1ms/step\n",
      "0.7411101333949084\n"
     ]
    }
   ],
   "source": [
    "pred = model.predict(x_test)\n",
    "print(r2_score(y_test, pred))"
   ]
  },
  {
   "cell_type": "markdown",
   "metadata": {
    "id": "pQMTSKLeNoQV"
   },
   "source": [
    "## 4) ensemble stacking"
   ]
  },
  {
   "cell_type": "code",
   "execution_count": null,
   "metadata": {
    "id": "WY-RP3fDCET0"
   },
   "outputs": [],
   "source": [
    "from catboost import CatBoostRegressor\n",
    "cat_final = CatBoostRegressor()\n",
    "\n",
    " \n",
    "\n",
    "from sklearn.model_selection import KFold\n",
    "from sklearn.metrics import accuracy_score\n",
    "import numpy as np\n",
    "import warnings\n",
    "warnings.filterwarnings(action='ignore')\n",
    "\n",
    " \n",
    "\n",
    "# 개별모델 내부에서 CV 적용해 Stacking하는 함수 구현\n",
    "def get_stacking_datasets(model, x_train_n, y_train_n, x_test_n, n_folds):\n",
    "    # CV하기 위해 K-fold 설정\n",
    "    kf = KFold(n_splits=n_folds, shuffle=False)\n",
    "    \n",
    "    # 최종 메타 모델이 사용할 학습 데이터 반환을 위해서 넘파이 배열을 0으로 만들어서 초기화\n",
    "    train_fold_pred = np.zeros((x_train_n.shape[0], 1)) # 2차원으로\n",
    "    test_pred = np.zeros((x_test_n.shape[0], n_folds))\n",
    "    print(model.__class__.__name__, '모델 시작')\n",
    "    \n",
    "    for folder_counter, (train_idx, valid_idx) in enumerate(kf.split(x_train_n)):\n",
    "        # 개별 모델 내부에서 학습하고 1개의 fold로 예측할 데이터 셋 추출\n",
    "        print(f\" Fold 횟수 : {folder_counter+1}\")\n",
    "        x_tr = x_train_n.iloc[train_idx]\n",
    "        y_tr = y_train_n.iloc[train_idx]\n",
    "        x_te = x_train_n.iloc[valid_idx]\n",
    "        \n",
    "        # 개별 모델이 학습한 후 1개의 fold데이터셋으로 예측값 반환 후 최종 메타모델이 학습할 데이터셋에 첨가\n",
    "        model.fit(x_tr, y_tr)\n",
    "        train_fold_pred[valid_idx, :] = model.predict(x_te).reshape(-1,1)\n",
    "        # 개별 모델이 원본 데이터셋의 검증 데이터셋을 기반으로 예측 결과값 반환 후 최종 메타모델이 검증할 데이터셋에 첨가\n",
    "        test_pred[:,folder_counter] = model.predict(x_test_n).reshape(-1)\n",
    "    \n",
    "    # 개별모델안에서 테스트 데이터셋을 기반으로 예측한 결과값들 mean취해주고 2차원으로 바꾸어주기\n",
    "    test_pred_mean = np.mean(test_pred, axis=1).reshape(-1,1)\n",
    "    \n",
    "    return train_fold_pred, test_pred_mean\n",
    "\n",
    " \n",
    "\n",
    "lr_train, lr_test = get_stacking_datasets(lr, train_x, train_y, test_x, 5)\n",
    "rf_train, rf_test = get_stacking_datasets(rf, train_x, train_y, test_x, 5)\n",
    "gb_train, gb_test = get_stacking_datasets(gb, train_x, train_y, test_x, 5)\n",
    "xgb_train, xgb_test = get_stacking_datasets(xgb, train_x, train_y, test_x, 5)"
   ]
  },
  {
   "cell_type": "code",
   "execution_count": null,
   "metadata": {
    "id": "jPWAosufCbR8"
   },
   "outputs": [],
   "source": [
    "stack_final_x_train = np.concatenate((lr_train, rf_train, gb_train, xgb_train), axis=1)\n",
    "stack_final_x_test = np.concatenate((lr_test, rf_test, gb_test, xgb_test), axis=1)\n",
    "\n",
    " \n",
    "\n",
    "# 최종 메타모델로 학습\n",
    "# 최종 메타모델 학습시 label은 원본 데이터의 label(y값)\n",
    "xgb.fit(stack_final_x_train, train_y)\n",
    "stack_final_pred = xgb.predict(stack_final_x_test)"
   ]
  },
  {
   "cell_type": "markdown",
   "metadata": {
    "id": "BiUQoEnM0YHY"
   },
   "source": [
    "## 5) BayesianRidge"
   ]
  },
  {
   "cell_type": "markdown",
   "metadata": {
    "id": "rarc0Qty2waH"
   },
   "source": [
    "* 2) 데이터 처리"
   ]
  },
  {
   "cell_type": "code",
   "execution_count": null,
   "metadata": {
    "colab": {
     "base_uri": "https://localhost:8080/"
    },
    "executionInfo": {
     "elapsed": 1287,
     "status": "ok",
     "timestamp": 1666108580733,
     "user": {
      "displayName": "최웅재",
      "userId": "03087746976218411209"
     },
     "user_tz": -540
    },
    "id": "5RWtRWUmzZMv",
    "outputId": "7210d326-0735-4d34-a82f-a4bd493c16ca"
   },
   "outputs": [
    {
     "data": {
      "text/plain": [
       "BayesianRidge()"
      ]
     },
     "execution_count": 55,
     "metadata": {},
     "output_type": "execute_result"
    }
   ],
   "source": [
    "from sklearn.linear_model import BayesianRidge\n",
    "model_BayesianRidge=BayesianRidge()\n",
    "model_BayesianRidge.fit(train_x,train_y)"
   ]
  },
  {
   "cell_type": "code",
   "execution_count": null,
   "metadata": {
    "colab": {
     "base_uri": "https://localhost:8080/"
    },
    "executionInfo": {
     "elapsed": 10,
     "status": "ok",
     "timestamp": 1666108603007,
     "user": {
      "displayName": "최웅재",
      "userId": "03087746976218411209"
     },
     "user_tz": -540
    },
    "id": "HobDZQjCz0ia",
    "outputId": "d084a04d-4cda-4fa6-a71d-2af90d1d25fe"
   },
   "outputs": [
    {
     "name": "stdout",
     "output_type": "stream",
     "text": [
      "0.7256817327597592\n"
     ]
    }
   ],
   "source": [
    "pred_BayesianRidge=model_BayesianRidge.predict(test_x)\n",
    "print(r2_score(test_y,pred_BayesianRidge))"
   ]
  }
 ],
 "metadata": {
  "colab": {
   "authorship_tag": "ABX9TyPHdPeIVun53AdU10JfRjTN",
   "collapsed_sections": [],
   "provenance": [],
   "toc_visible": true
  },
  "kernelspec": {
   "display_name": "Python 3",
   "language": "python",
   "name": "python3"
  },
  "language_info": {
   "codemirror_mode": {
    "name": "ipython",
    "version": 3
   },
   "file_extension": ".py",
   "mimetype": "text/x-python",
   "name": "python",
   "nbconvert_exporter": "python",
   "pygments_lexer": "ipython3",
   "version": "3.8.8"
  }
 },
 "nbformat": 4,
 "nbformat_minor": 4
}
